{
 "cells": [
  {
   "cell_type": "code",
   "execution_count": null,
   "id": "f01a4e75",
   "metadata": {},
   "outputs": [],
   "source": [
    "import pandas as pd\n",
    "from util import get_engine, load_data_from_json"
   ]
  },
  {
   "cell_type": "code",
   "execution_count": null,
   "id": "2556469c",
   "metadata": {},
   "outputs": [],
   "source": [
    "load_data_from_json('similarweb')"
   ]
  },
  {
   "cell_type": "code",
   "execution_count": null,
   "id": "a61a72e1",
   "metadata": {
    "scrolled": true
   },
   "outputs": [],
   "source": [
    "load_data_from_json('crawls')"
   ]
  },
  {
   "cell_type": "code",
   "execution_count": null,
   "id": "f9bc1305",
   "metadata": {},
   "outputs": [],
   "source": [
    "load_data_from_json('interest-categories')"
   ]
  },
  {
   "cell_type": "code",
   "execution_count": null,
   "id": "70fe9830",
   "metadata": {},
   "outputs": [],
   "source": [
    "load_data_from_json('header-bidding-sites')"
   ]
  },
  {
   "cell_type": "code",
   "execution_count": null,
   "id": "4cebefc1",
   "metadata": {},
   "outputs": [],
   "source": [
    "load_data_from_json('header-bidding-responses')"
   ]
  }
 ],
 "metadata": {
  "kernelspec": {
   "display_name": "Python 3",
   "language": "python",
   "name": "python3"
  },
  "language_info": {
   "codemirror_mode": {
    "name": "ipython",
    "version": 3
   },
   "file_extension": ".py",
   "mimetype": "text/x-python",
   "name": "python",
   "nbconvert_exporter": "python",
   "pygments_lexer": "ipython3",
   "version": "3.7.10"
  }
 },
 "nbformat": 4,
 "nbformat_minor": 5
}
