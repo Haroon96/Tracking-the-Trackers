{
 "cells": [
  {
   "cell_type": "code",
   "execution_count": 1,
   "id": "905d96bc",
   "metadata": {},
   "outputs": [],
   "source": [
    "from selenium.webdriver import Chrome, ChromeOptions\n",
    "from pyvirtualdisplay import Display\n",
    "import pandas as pd\n",
    "from time import sleep\n",
    "from util import get_engine, get_upload_url\n",
    "from urllib.parse import urlparse\n",
    "from random import randint, shuffle, choice\n",
    "from time import time\n",
    "import requests\n",
    "from shutil import make_archive"
   ]
  },
  {
   "cell_type": "code",
   "execution_count": 2,
   "id": "7c03c530",
   "metadata": {},
   "outputs": [],
   "source": [
    "cat = 'Arts and Entertainment'\n",
    "profile_path = f'profiles/{cat}'"
   ]
  },
  {
   "cell_type": "code",
   "execution_count": 3,
   "id": "213a6167",
   "metadata": {},
   "outputs": [],
   "source": [
    "# Display(size=(1920,1080)).start()\n",
    "\n",
    "options = ChromeOptions()\n",
    "options.add_argument('--window-size=1920,1080')\n",
    "options.add_argument('--no-sandbox')\n",
    "options.add_argument(f'--user-data-dir={profile_path}')\n",
    "\n",
    "driver = Chrome(options=options)\n",
    "driver.implicitly_wait(30)"
   ]
  },
  {
   "cell_type": "code",
   "execution_count": null,
   "id": "7cacb985",
   "metadata": {},
   "outputs": [],
   "source": [
    "def get_urls(category):\n",
    "    return pd.read_sql(f'SELECT URL FROM similarweb WHERE Category = \"{category}\" ORDER BY \"Rank\"', con=get_engine())['URL']"
   ]
  },
  {
   "cell_type": "code",
   "execution_count": null,
   "id": "ee719fa9",
   "metadata": {},
   "outputs": [],
   "source": [
    "def get_random_text():\n",
    "    with open('topics.txt') as f:\n",
    "        texts = f.read().split('\\n')\n",
    "        return choice(texts).strip()                \n",
    "\n",
    "def loiter(driver, how_long=300):\n",
    "    start_time = time()\n",
    "    \n",
    "    # spend the required time around the site\n",
    "    while (time() - start_time) < how_long:\n",
    "        \n",
    "        try:\n",
    "            action = randint(0, 5)\n",
    "            if action == 0:\n",
    "                # execute a random scroll\n",
    "                driver.execute_script(\"window.scrollTo(0, document.documentElement.scrollHeight * Math.random())\", \"\");\n",
    "            elif action == 1:\n",
    "                # get domain name\n",
    "                dom = urlparse(driver.current_url).netloc\n",
    "                # get all `a` links\n",
    "                linkEls = driver.find_elements_by_tag_name('a')\n",
    "                # shuffle links so random is clicked\n",
    "                shuffle(linkEls)\n",
    "\n",
    "                for link in linkEls[:5]:\n",
    "                    href = link.get_attribute('href')\n",
    "                    # for each link, check for non-empty href to same domain\n",
    "                    if href is not None and href.strip() != '' and dom == urlparse(href).netloc:\n",
    "                        # click the link\n",
    "                        try:\n",
    "                            link.click()\n",
    "                            break\n",
    "                        except:\n",
    "                            pass\n",
    "            elif action == 2:\n",
    "                # get all `input` fields\n",
    "                inputEls = driver.find_elements_by_tag_name('input')\n",
    "                # shuffle fields so random is selected\n",
    "                shuffle(inputEls)\n",
    "\n",
    "                text = get_random_text()\n",
    "                for inputt in inputEls[:5]:\n",
    "                    try:\n",
    "                        inputt.send_keys(text + '\\n')\n",
    "                        break\n",
    "                    except:\n",
    "                        pass\n",
    "            else:\n",
    "                pass\n",
    "        except:\n",
    "            pass"
   ]
  },
  {
   "cell_type": "code",
   "execution_count": null,
   "id": "f31b77e8",
   "metadata": {},
   "outputs": [],
   "source": [
    "for url in get_urls(cat)[:5]:\n",
    "    driver.get(f'https://{url}')\n",
    "    loiter(driver, how_long=30)"
   ]
  },
  {
   "cell_type": "code",
   "execution_count": null,
   "id": "b4f21b86",
   "metadata": {},
   "outputs": [],
   "source": [
    "driver.close()"
   ]
  },
  {
   "cell_type": "code",
   "execution_count": 55,
   "id": "8b4890f4",
   "metadata": {},
   "outputs": [
    {
     "data": {
      "text/plain": [
       "'Arts and Entertainment.zip'"
      ]
     },
     "execution_count": 55,
     "metadata": {},
     "output_type": "execute_result"
    }
   ],
   "source": [
    "from datetime import datetime\n",
    "import os\n",
    "os.path.basename(archive)"
   ]
  },
  {
   "cell_type": "code",
   "execution_count": 72,
   "id": "4e88f892",
   "metadata": {},
   "outputs": [],
   "source": [
    "def get_filename(archive, timestamp):\n",
    "    basename = os.path.basename(archive)\n",
    "    name, ext = os.path.splitext(basename)\n",
    "     ts = datetime.strftime(timestamp, '%Y%m%d%H%M%S')\n",
    "    return f'{name}-{ts}{ext}'"
   ]
  },
  {
   "cell_type": "code",
   "execution_count": 27,
   "id": "c6304b55",
   "metadata": {},
   "outputs": [],
   "source": [
    "archive = make_archive(cat, 'zip', profile_path, '.')"
   ]
  },
  {
   "cell_type": "code",
   "execution_count": 39,
   "id": "fb57a740",
   "metadata": {},
   "outputs": [],
   "source": [
    "url = get_upload_url()\n",
    "files = {'file': open(archive, 'rb')}\n",
    "name = get_filename(archive, timestamp)\n",
    "r = requests.post(url,data={'key': 'froam_haroon', 'filename': name}, files=files)"
   ]
  },
  {
   "cell_type": "code",
   "execution_count": 73,
   "id": "b3ed4e35",
   "metadata": {},
   "outputs": [
    {
     "data": {
      "text/plain": [
       "'Arts and Entertainment-20210511211337.zip'"
      ]
     },
     "execution_count": 73,
     "metadata": {},
     "output_type": "execute_result"
    }
   ],
   "source": [
    "get_filename(archive, datetime.now())"
   ]
  },
  {
   "cell_type": "code",
   "execution_count": 67,
   "id": "998762a8",
   "metadata": {},
   "outputs": [
    {
     "data": {
      "text/plain": [
       "'20210511211110'"
      ]
     },
     "execution_count": 67,
     "metadata": {},
     "output_type": "execute_result"
    }
   ],
   "source": [
    "datetime.strftime(datetime.now(), '%Y%m%d%H%M%S')"
   ]
  },
  {
   "cell_type": "code",
   "execution_count": null,
   "id": "d628251b",
   "metadata": {},
   "outputs": [],
   "source": [
    "pd.DataFrame([{\n",
    "    'Category': cat,\n",
    "    'Time': datetime.now(),\n",
    "    'Filename': os.path.basename(archive)\n",
    "}]).to_sql('crawls')"
   ]
  }
 ],
 "metadata": {
  "kernelspec": {
   "display_name": "Python 3",
   "language": "python",
   "name": "python3"
  },
  "language_info": {
   "codemirror_mode": {
    "name": "ipython",
    "version": 3
   },
   "file_extension": ".py",
   "mimetype": "text/x-python",
   "name": "python",
   "nbconvert_exporter": "python",
   "pygments_lexer": "ipython3",
   "version": "3.7.10"
  }
 },
 "nbformat": 4,
 "nbformat_minor": 5
}